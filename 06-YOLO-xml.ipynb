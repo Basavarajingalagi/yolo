{
 "cells": [
  {
   "cell_type": "markdown",
   "metadata": {},
   "source": [
    "# YOLO v3 Object Detection\n",
    "\n",
    "Let's see how to use the state of the art in object detection! Please make sure to watch the video, there is no code along here, since we can't reasonably train the YOLOv3 network ourself, instead we will use a pre-established version.\n",
    "\n",
    "CODE SOURCE: https://github.com/xiaochus/YOLOv3\n",
    "\n",
    "REFERENCE (for original YOLOv3): \n",
    "\n",
    "        @article{YOLOv3,  \n",
    "              title={YOLOv3: An Incremental Improvement},  \n",
    "              author={J Redmon, A Farhadi },\n",
    "              year={2018} \n",
    "--------\n",
    "----------\n",
    "## YOU MUST WATCH THE VIDEO LECTURE TO PROPERLY SET UP THE MODEL AND WEIGHTS. THIS NOTEBOOK WON'T WORK UNLESS YOU FOLLOW THE EXACT SET UP SHOWN IN THE VIDEO LECTURE.\n",
    "-------\n",
    "-------"
   ]
  },
  {
   "cell_type": "code",
   "execution_count": 7,
   "metadata": {},
   "outputs": [
    {
     "name": "stderr",
     "output_type": "stream",
     "text": [
      "Using TensorFlow backend.\n"
     ]
    }
   ],
   "source": [
    "import os\n",
    "import time\n",
    "import cv2\n",
    "import numpy as np\n",
    "from model.yolo_model import YOLO"
   ]
  },
  {
   "cell_type": "code",
   "execution_count": 8,
   "metadata": {},
   "outputs": [],
   "source": [
    "from collections import Counter"
   ]
  },
  {
   "cell_type": "code",
   "execution_count": 9,
   "metadata": {},
   "outputs": [],
   "source": [
    "import pyttsx3\n",
    "converter = pyttsx3.init()\n",
    "converter.setProperty('rate', 150) \n",
    "converter.setProperty('volume', 0.7)"
   ]
  },
  {
   "cell_type": "code",
   "execution_count": 10,
   "metadata": {},
   "outputs": [],
   "source": [
    "def process_image(img):\n",
    "    \"\"\"Resize, reduce and expand image.\n",
    "\n",
    "    # Argument:\n",
    "        img: original image.\n",
    "\n",
    "    # Returns\n",
    "        image: ndarray(64, 64, 3), processed image.\n",
    "    \"\"\"\n",
    "    image = cv2.resize(img, (416, 416),\n",
    "                       interpolation=cv2.INTER_CUBIC)\n",
    "    image = np.array(image, dtype='float32')\n",
    "    image /= 255.\n",
    "    image = np.expand_dims(image, axis=0)\n",
    "\n",
    "    return image"
   ]
  },
  {
   "cell_type": "code",
   "execution_count": 11,
   "metadata": {},
   "outputs": [],
   "source": [
    "def get_classes(file):\n",
    "    \"\"\"Get classes name.\n",
    "\n",
    "    # Argument:\n",
    "        file: classes name for database.\n",
    "\n",
    "    # Returns\n",
    "        class_names: List, classes name.\n",
    "\n",
    "    \"\"\"\n",
    "    with open(file) as f:\n",
    "        class_names = f.readlines()\n",
    "    class_names = [c.strip() for c in class_names]\n",
    "\n",
    "    return class_names"
   ]
  },
  {
   "cell_type": "code",
   "execution_count": 12,
   "metadata": {},
   "outputs": [],
   "source": [
    "def draw(image, boxes, scores, classes, all_classes):\n",
    "    \"\"\"Draw the boxes on the image.\n",
    "\n",
    "    # Argument:\n",
    "        image: original image.\n",
    "        boxes: ndarray, boxes of objects.\n",
    "        classes: ndarray, classes of objects.\n",
    "        scores: ndarray, scores of objects.\n",
    "        all_classes: all classes name.\n",
    "    \"\"\"\n",
    "    height = np.size(image, 0)\n",
    "    width = np.size(image, 1)\n",
    "    sourceDirectory = r'E:\\Computer-Vision-with-Python\\06-Deep-Learning-Computer-Vision\\06-YOLOv3'\n",
    "    annotation = ET.Element('annotation')\n",
    "    ET.SubElement(annotation, 'folder').text = 'kitty'\n",
    "    ET.SubElement(annotation, 'filename').text = str(1)+'.jpg'\n",
    "    ET.SubElement(annotation, 'segmented').text = '0'\n",
    "    size = ET.SubElement(annotation, 'size')\n",
    "    ET.SubElement(size, 'width').text = str(width)\n",
    "    ET.SubElement(size, 'height').text = str(height)\n",
    "    ET.SubElement(size, 'depth').text = '3'\n",
    "    \n",
    "    \n",
    "    #names = []\n",
    "    for box,cl, score in zip(boxes, classes, scores):\n",
    "        if all_classes[cl] == 'person' or all_classes[cl] == 'car':\n",
    "            x, y, w, h = box\n",
    "\n",
    "            top = max(0, np.floor(x + 0.5).astype(int))\n",
    "            left = max(0, np.floor(y + 0.5).astype(int))\n",
    "            right = min(image.shape[1], np.floor(x + w + 0.5).astype(int))\n",
    "            bottom = min(image.shape[0], np.floor(y + h + 0.5).astype(int))\n",
    "\n",
    "            cv2.rectangle(image, (top, left), (right, bottom), (255, 0, 0), 2)\n",
    "            cv2.putText(image, '{0} {1:.2f}'.format(all_classes[cl], score),\n",
    "                        (top, left - 6),\n",
    "                        cv2.FONT_HERSHEY_SIMPLEX,\n",
    "                        0.6, (0, 0, 255), 1,\n",
    "                        cv2.LINE_AA)\n",
    "\n",
    "            \n",
    "            ob = ET.SubElement(annotation, 'object')\n",
    "            ET.SubElement(ob, 'name').text = all_classes[cl]\n",
    "            ET.SubElement(ob, 'pose').text = 'Unspecified'\n",
    "            ET.SubElement(ob, 'truncated').text = '0'\n",
    "            ET.SubElement(ob, 'difficult').text = '0'\n",
    "            bbox = ET.SubElement(ob, 'bndbox')\n",
    "            ET.SubElement(bbox, 'xmin').text = str(top)\n",
    "            ET.SubElement(bbox, 'ymin').text = str(left)\n",
    "            ET.SubElement(bbox, 'xmax').text = str(right)\n",
    "            ET.SubElement(bbox, 'ymax').text = str(bottom)\n",
    "\n",
    "    xml_str = ET.tostring(annotation)\n",
    "    root = etree.fromstring(xml_str)\n",
    "    xml_str = etree.tostring(root, pretty_print=True)\n",
    "    xml_labels = str(1) + '.xml'\n",
    "    save_path = os.path.join(sourceDirectory, xml_labels)\n",
    "    with open(save_path, 'wb') as temp_xml:\n",
    "        temp_xml.write(xml_str)\n",
    "              \n",
    "            \n",
    "            \n",
    "            #print('class: {0}, score: {1:.2f}'.format(all_classes[cl], score))\n",
    "            #names.append(all_classes[cl])\n",
    "\n",
    "       # print('box coordinate x,y,w,h: {0}'.format(box))\n",
    "   # cnt = Counter()\n",
    "   # for word in names:\n",
    "   #   cnt[word] += 1\n",
    "  #  print(dict(cnt))"
   ]
  },
  {
   "cell_type": "code",
   "execution_count": 13,
   "metadata": {},
   "outputs": [],
   "source": [
    "def detect_image(image, yolo, all_classes):\n",
    "    \"\"\"Use yolo v3 to detect images.\n",
    "\n",
    "    # Argument:\n",
    "        image: original image.\n",
    "        yolo: YOLO, yolo model.\n",
    "        all_classes: all classes name.\n",
    "\n",
    "    # Returns:\n",
    "        image: processed image.\n",
    "    \"\"\"\n",
    "    pimage = process_image(image)\n",
    "\n",
    "   # start = time.time()\n",
    "    boxes, classes, scores = yolo.predict(pimage, image.shape)\n",
    "   # end = time.time()\n",
    "\n",
    "   # print('time: {0:.2f}s'.format(end - start))\n",
    "\n",
    "    if boxes is not None:\n",
    "        draw(image, boxes, scores, classes, all_classes)\n",
    "\n",
    "    return image"
   ]
  },
  {
   "cell_type": "code",
   "execution_count": 14,
   "metadata": {},
   "outputs": [],
   "source": [
    "import time"
   ]
  },
  {
   "cell_type": "code",
   "execution_count": 15,
   "metadata": {},
   "outputs": [],
   "source": [
    "def detect_video(yolo, all_classes):\n",
    "    \"\"\"Use yolo v3 to detect video.\n",
    "\n",
    "    # Argument:\n",
    "        video: video file.\n",
    "        yolo: YOLO, yolo model.\n",
    "        all_classes: all classes name.\n",
    "    \"\"\"\n",
    "    video_path = os.path.join(\"videos\", \"test\", video)\n",
    "    camera = cv2.VideoCapture(video)\n",
    "    cv2.namedWindow(\"detection\", cv2.WINDOW_AUTOSIZE)\n",
    "\n",
    "    # Prepare for saving the detected video\n",
    "    sz = (int(camera.get(cv2.CAP_PROP_FRAME_WIDTH)),\n",
    "        int(camera.get(cv2.CAP_PROP_FRAME_HEIGHT)))\n",
    "    fourcc = cv2.VideoWriter_fourcc(*'mpeg')\n",
    "\n",
    "    \n",
    "    vout = cv2.VideoWriter()\n",
    "    vout.open(os.path.join(\"videos\", \"res\", video), fourcc, 20, sz, True)\n",
    "\n",
    "    while True:\n",
    "        res, frame = camera.read()\n",
    "\n",
    "        if not res:\n",
    "            break\n",
    "    \n",
    "            \n",
    "        image = detect_image(frame, yolo, all_classes)\n",
    "        \n",
    "        cv2.imshow(\"detection\", image)\n",
    "\n",
    "        # Save the video frame by frame\n",
    "        vout.write(image)\n",
    "\n",
    "        if cv2.waitKey(0) & 0xff == ord('q'):\n",
    "                break\n",
    "\n",
    "    vout.release()\n",
    "    camera.release()\n",
    "    "
   ]
  },
  {
   "cell_type": "code",
   "execution_count": 16,
   "metadata": {},
   "outputs": [
    {
     "name": "stderr",
     "output_type": "stream",
     "text": [
      "c:\\users\\lenovo\\appdata\\local\\programs\\python\\python37\\lib\\site-packages\\keras\\engine\\saving.py:341: UserWarning: No training configuration found in save file: the model was *not* compiled. Compile it manually.\n",
      "  warnings.warn('No training configuration found in save file: '\n"
     ]
    }
   ],
   "source": [
    "yolo = YOLO(0.6, 0.5)\n",
    "file = 'data/coco_classes.txt'\n",
    "all_classes = get_classes(file)"
   ]
  },
  {
   "cell_type": "code",
   "execution_count": 17,
   "metadata": {},
   "outputs": [],
   "source": [
    "from lxml import etree\n",
    "import xml.etree.cElementTree as ET"
   ]
  },
  {
   "cell_type": "markdown",
   "metadata": {},
   "source": [
    "### Detecting Images"
   ]
  },
  {
   "cell_type": "code",
   "execution_count": 19,
   "metadata": {},
   "outputs": [],
   "source": [
    "f = '1.jpg'\n",
    "#path = 'images/test'+f\n",
    "image = cv2.imread(f)\n",
    "image = detect_image(image, yolo, all_classes)\n",
    "cv2.imshow(\"test\", image)\n",
    "cv2.waitKey(0)\n",
    "cv2.destroyAllWindows()"
   ]
  },
  {
   "cell_type": "markdown",
   "metadata": {},
   "source": [
    "# Detecting on Video"
   ]
  },
  {
   "cell_type": "code",
   "execution_count": 61,
   "metadata": {},
   "outputs": [],
   "source": [
    "# # detect videos one at a time in videos/test folder    \n",
    "video = 'car1.mp4'\n",
    "detect_video(yolo, all_classes)"
   ]
  },
  {
   "cell_type": "code",
   "execution_count": null,
   "metadata": {},
   "outputs": [],
   "source": []
  },
  {
   "cell_type": "code",
   "execution_count": null,
   "metadata": {},
   "outputs": [],
   "source": []
  },
  {
   "cell_type": "code",
   "execution_count": null,
   "metadata": {},
   "outputs": [],
   "source": []
  }
 ],
 "metadata": {
  "kernelspec": {
   "display_name": "Python 3",
   "language": "python",
   "name": "python3"
  },
  "language_info": {
   "codemirror_mode": {
    "name": "ipython",
    "version": 3
   },
   "file_extension": ".py",
   "mimetype": "text/x-python",
   "name": "python",
   "nbconvert_exporter": "python",
   "pygments_lexer": "ipython3",
   "version": "3.7.4"
  }
 },
 "nbformat": 4,
 "nbformat_minor": 2
}
