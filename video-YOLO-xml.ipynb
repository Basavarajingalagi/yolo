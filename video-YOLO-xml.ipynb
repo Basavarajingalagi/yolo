{
 "cells": [
  {
   "cell_type": "markdown",
   "metadata": {},
   "source": [
    "# Detecting on Video"
   ]
  },
  {
   "cell_type": "code",
   "execution_count": null,
   "metadata": {},
   "outputs": [],
   "source": []
  },
  {
   "cell_type": "code",
   "execution_count": 1,
   "metadata": {},
   "outputs": [
    {
     "name": "stderr",
     "output_type": "stream",
     "text": [
      "Using TensorFlow backend.\n"
     ]
    }
   ],
   "source": [
    "import os\n",
    "import time\n",
    "import cv2\n",
    "import numpy as np\n",
    "from model.yolo_model import YOLO\n",
    "from lxml import etree\n",
    "import xml.etree.cElementTree as ET"
   ]
  },
  {
   "cell_type": "code",
   "execution_count": 2,
   "metadata": {},
   "outputs": [],
   "source": [
    "def get_classes(file):\n",
    "    \"\"\"Get classes name.\n",
    "\n",
    "    # Argument:\n",
    "        file: classes name for database.\n",
    "\n",
    "    # Returns\n",
    "        class_names: List, classes name.\n",
    "\n",
    "    \"\"\"\n",
    "    with open(file) as f:\n",
    "        class_names = f.readlines()\n",
    "    class_names = [c.strip() for c in class_names]\n",
    "\n",
    "    return class_names"
   ]
  },
  {
   "cell_type": "code",
   "execution_count": 3,
   "metadata": {},
   "outputs": [
    {
     "name": "stderr",
     "output_type": "stream",
     "text": [
      "c:\\users\\lenovo\\appdata\\local\\programs\\python\\python37\\lib\\site-packages\\keras\\engine\\saving.py:341: UserWarning: No training configuration found in save file: the model was *not* compiled. Compile it manually.\n",
      "  warnings.warn('No training configuration found in save file: '\n"
     ]
    }
   ],
   "source": [
    "yolo = YOLO(0.6, 0.5)\n",
    "file = 'data/coco_classes.txt'\n",
    "all_classes = get_classes(file)"
   ]
  },
  {
   "cell_type": "code",
   "execution_count": 4,
   "metadata": {},
   "outputs": [],
   "source": [
    "frame_number = 30"
   ]
  },
  {
   "cell_type": "code",
   "execution_count": 5,
   "metadata": {},
   "outputs": [],
   "source": [
    "video = 'car1.mp4'"
   ]
  },
  {
   "cell_type": "code",
   "execution_count": null,
   "metadata": {},
   "outputs": [],
   "source": [
    "\n",
    "camera = cv2.VideoCapture(video)\n",
    "sourceDirectory = r'E:\\Computer-Vision-with-Python\\06-Deep-Learning-Computer-Vision\\06-YOLOv3\\xmls'\n",
    "count = 0\n",
    "while True:\n",
    "    res, frame = camera.read()\n",
    "\n",
    "    if not res:\n",
    "        break\n",
    "    \n",
    "            \n",
    "\n",
    "    image = cv2.resize(frame, (416, 416),\n",
    "                       interpolation=cv2.INTER_CUBIC)\n",
    "    image = np.array(image, dtype='float32')\n",
    "    image /= 255.\n",
    "    image = np.expand_dims(image, axis=0)\n",
    "    \n",
    "    boxes, classes, scores = yolo.predict(image, frame.shape)\n",
    "\n",
    "\n",
    "    if boxes is not None:\n",
    "        height = np.size(frame, 0)\n",
    "        width = np.size(frame, 1)\n",
    "    \n",
    "        annotation = ET.Element('annotation')\n",
    "        ET.SubElement(annotation, 'folder').text = 'kitty'\n",
    "        ET.SubElement(annotation, 'filename').text = str(count)+'.jpg'\n",
    "        ET.SubElement(annotation, 'segmented').text = '0'\n",
    "        size = ET.SubElement(annotation, 'size')\n",
    "        ET.SubElement(size, 'width').text = str(width)\n",
    "        ET.SubElement(size, 'height').text = str(height)\n",
    "        ET.SubElement(size, 'depth').text = '3'\n",
    "\n",
    "\n",
    "        for box,cl, score in zip(boxes, classes, scores):\n",
    "            if all_classes[cl] == 'person' or all_classes[cl] == 'car':\n",
    "                x, y, w, h = box\n",
    "\n",
    "                top = max(0, np.floor(x + 0.5).astype(int))\n",
    "                left = max(0, np.floor(y + 0.5).astype(int))\n",
    "                right = min(frame.shape[1], np.floor(x + w + 0.5).astype(int))\n",
    "                bottom = min(frame.shape[0], np.floor(y + h + 0.5).astype(int))\n",
    "\n",
    "                cv2.rectangle(frame, (top, left), (right, bottom), (255, 0, 0), 2)\n",
    "                cv2.putText(frame, '{0} {1:.2f}'.format(all_classes[cl], score),\n",
    "                            (top, left - 6),\n",
    "                            cv2.FONT_HERSHEY_SIMPLEX,\n",
    "                            0.6, (0, 0, 255), 1,\n",
    "                            cv2.LINE_AA)\n",
    "\n",
    "\n",
    "                ob = ET.SubElement(annotation, 'object')\n",
    "                ET.SubElement(ob, 'name').text = all_classes[cl]\n",
    "                ET.SubElement(ob, 'pose').text = 'Unspecified'\n",
    "                ET.SubElement(ob, 'truncated').text = '0'\n",
    "                ET.SubElement(ob, 'difficult').text = '0'\n",
    "                bbox = ET.SubElement(ob, 'bndbox')\n",
    "                ET.SubElement(bbox, 'xmin').text = str(top)\n",
    "                ET.SubElement(bbox, 'ymin').text = str(left)\n",
    "                ET.SubElement(bbox, 'xmax').text = str(right)\n",
    "                ET.SubElement(bbox, 'ymax').text = str(bottom)\n",
    "\n",
    "        xml_str = ET.tostring(annotation)\n",
    "        root = etree.fromstring(xml_str)\n",
    "        xml_str = etree.tostring(root, pretty_print=True)\n",
    "        xml_labels = str(count) + '.xml'\n",
    "        save_path = os.path.join(sourceDirectory, xml_labels)\n",
    "        with open(save_path, 'wb') as temp_xml:\n",
    "            temp_xml.write(xml_str)\n",
    "\n",
    "        cv2.imwrite(os.path.join(sourceDirectory,(str(count)+'.jpg')), frame)\n",
    "        count += frame_number         #30 # i.e. at 30 fps, this advances one second\n",
    "        camera.set(1, count)\n",
    "\n",
    "        cv2.imshow(\"detection\", frame)\n",
    "\n",
    "        if cv2.waitKey(0) & 0xff == ord('q'):\n",
    "            break\n",
    "    \n",
    "camera.release()"
   ]
  },
  {
   "cell_type": "code",
   "execution_count": null,
   "metadata": {},
   "outputs": [],
   "source": []
  }
 ],
 "metadata": {
  "kernelspec": {
   "display_name": "Python 3",
   "language": "python",
   "name": "python3"
  },
  "language_info": {
   "codemirror_mode": {
    "name": "ipython",
    "version": 3
   },
   "file_extension": ".py",
   "mimetype": "text/x-python",
   "name": "python",
   "nbconvert_exporter": "python",
   "pygments_lexer": "ipython3",
   "version": "3.7.4"
  }
 },
 "nbformat": 4,
 "nbformat_minor": 2
}
